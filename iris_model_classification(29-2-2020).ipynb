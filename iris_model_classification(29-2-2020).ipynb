{
 "cells": [
  {
   "cell_type": "markdown",
   "metadata": {},
   "source": [
    "# # ASSIGNMENT : IRIS MULTI-CLASS CLASSIFICATION\n",
    "\n",
    "###### Purpose :\n",
    "To predict the species of flower .\n",
    "###### Description :\n",
    "The dataset contains a set of 150 records under 5 attributes - Petal Length, Petal Width, Sepal Length, Sepal width and Class(Species).\n",
    "###### Requirements :\n",
    "1) Code must be in tf 2.0 .\n",
    "\n",
    "2) Accuracy must be in between 95-97% .\n",
    "\n",
    "3) Model shouldn't be Overfit (You can add drop out layer for this) ."
   ]
  },
  {
   "cell_type": "markdown",
   "metadata": {},
   "source": [
    "# STEP 1 : Load all the necessary libraries "
   ]
  },
  {
   "cell_type": "code",
   "execution_count": 3,
   "metadata": {},
   "outputs": [],
   "source": [
    "import tensorflow as tf\n",
    "import numpy as np \n",
    "import pandas as pd\n",
    "#import matplotlib.pylab as plt\n"
   ]
  },
  {
   "cell_type": "code",
   "execution_count": 4,
   "metadata": {},
   "outputs": [],
   "source": [
    "import matplotlib.pylab as plt"
   ]
  },
  {
   "cell_type": "code",
   "execution_count": 5,
   "metadata": {},
   "outputs": [],
   "source": [
    "from tensorflow import keras"
   ]
  },
  {
   "cell_type": "markdown",
   "metadata": {},
   "source": [
    "# STEP 2 : Data Preparation\n",
    "This step consists of multiple sub steps from data loading [download](https://github.com/ramsha275/PIAIC-Sir-Anees-Quarter-2/blob/master/Deep%20Learning/iris.csv),shuffling ,spliting in **Train** and **Test** sets to one-hot-enconding on labels . \n"
   ]
  },
  {
   "cell_type": "code",
   "execution_count": 6,
   "metadata": {},
   "outputs": [],
   "source": [
    "from sklearn.datasets import load_iris\n",
    "from sklearn.model_selection import train_test_split\n",
    "from sklearn.preprocessing import OneHotEncoder\n"
   ]
  },
  {
   "cell_type": "markdown",
   "metadata": {},
   "source": [
    "# Collect  DataFrame for future target\n"
   ]
  },
  {
   "cell_type": "code",
   "execution_count": 7,
   "metadata": {},
   "outputs": [],
   "source": [
    "from keras.models import Sequential\n",
    "from keras.layers import Dense\n",
    "from keras.optimizers import Adam\n"
   ]
  },
  {
   "cell_type": "markdown",
   "metadata": {},
   "source": [
    "# load data with load function datasets"
   ]
  },
  {
   "cell_type": "code",
   "execution_count": 76,
   "metadata": {},
   "outputs": [
    {
     "data": {
      "text/plain": [
       "{'data': array([[5.1, 3.5, 1.4, 0.2],\n",
       "        [4.9, 3. , 1.4, 0.2],\n",
       "        [4.7, 3.2, 1.3, 0.2],\n",
       "        [4.6, 3.1, 1.5, 0.2],\n",
       "        [5. , 3.6, 1.4, 0.2],\n",
       "        [5.4, 3.9, 1.7, 0.4],\n",
       "        [4.6, 3.4, 1.4, 0.3],\n",
       "        [5. , 3.4, 1.5, 0.2],\n",
       "        [4.4, 2.9, 1.4, 0.2],\n",
       "        [4.9, 3.1, 1.5, 0.1],\n",
       "        [5.4, 3.7, 1.5, 0.2],\n",
       "        [4.8, 3.4, 1.6, 0.2],\n",
       "        [4.8, 3. , 1.4, 0.1],\n",
       "        [4.3, 3. , 1.1, 0.1],\n",
       "        [5.8, 4. , 1.2, 0.2],\n",
       "        [5.7, 4.4, 1.5, 0.4],\n",
       "        [5.4, 3.9, 1.3, 0.4],\n",
       "        [5.1, 3.5, 1.4, 0.3],\n",
       "        [5.7, 3.8, 1.7, 0.3],\n",
       "        [5.1, 3.8, 1.5, 0.3],\n",
       "        [5.4, 3.4, 1.7, 0.2],\n",
       "        [5.1, 3.7, 1.5, 0.4],\n",
       "        [4.6, 3.6, 1. , 0.2],\n",
       "        [5.1, 3.3, 1.7, 0.5],\n",
       "        [4.8, 3.4, 1.9, 0.2],\n",
       "        [5. , 3. , 1.6, 0.2],\n",
       "        [5. , 3.4, 1.6, 0.4],\n",
       "        [5.2, 3.5, 1.5, 0.2],\n",
       "        [5.2, 3.4, 1.4, 0.2],\n",
       "        [4.7, 3.2, 1.6, 0.2],\n",
       "        [4.8, 3.1, 1.6, 0.2],\n",
       "        [5.4, 3.4, 1.5, 0.4],\n",
       "        [5.2, 4.1, 1.5, 0.1],\n",
       "        [5.5, 4.2, 1.4, 0.2],\n",
       "        [4.9, 3.1, 1.5, 0.2],\n",
       "        [5. , 3.2, 1.2, 0.2],\n",
       "        [5.5, 3.5, 1.3, 0.2],\n",
       "        [4.9, 3.6, 1.4, 0.1],\n",
       "        [4.4, 3. , 1.3, 0.2],\n",
       "        [5.1, 3.4, 1.5, 0.2],\n",
       "        [5. , 3.5, 1.3, 0.3],\n",
       "        [4.5, 2.3, 1.3, 0.3],\n",
       "        [4.4, 3.2, 1.3, 0.2],\n",
       "        [5. , 3.5, 1.6, 0.6],\n",
       "        [5.1, 3.8, 1.9, 0.4],\n",
       "        [4.8, 3. , 1.4, 0.3],\n",
       "        [5.1, 3.8, 1.6, 0.2],\n",
       "        [4.6, 3.2, 1.4, 0.2],\n",
       "        [5.3, 3.7, 1.5, 0.2],\n",
       "        [5. , 3.3, 1.4, 0.2],\n",
       "        [7. , 3.2, 4.7, 1.4],\n",
       "        [6.4, 3.2, 4.5, 1.5],\n",
       "        [6.9, 3.1, 4.9, 1.5],\n",
       "        [5.5, 2.3, 4. , 1.3],\n",
       "        [6.5, 2.8, 4.6, 1.5],\n",
       "        [5.7, 2.8, 4.5, 1.3],\n",
       "        [6.3, 3.3, 4.7, 1.6],\n",
       "        [4.9, 2.4, 3.3, 1. ],\n",
       "        [6.6, 2.9, 4.6, 1.3],\n",
       "        [5.2, 2.7, 3.9, 1.4],\n",
       "        [5. , 2. , 3.5, 1. ],\n",
       "        [5.9, 3. , 4.2, 1.5],\n",
       "        [6. , 2.2, 4. , 1. ],\n",
       "        [6.1, 2.9, 4.7, 1.4],\n",
       "        [5.6, 2.9, 3.6, 1.3],\n",
       "        [6.7, 3.1, 4.4, 1.4],\n",
       "        [5.6, 3. , 4.5, 1.5],\n",
       "        [5.8, 2.7, 4.1, 1. ],\n",
       "        [6.2, 2.2, 4.5, 1.5],\n",
       "        [5.6, 2.5, 3.9, 1.1],\n",
       "        [5.9, 3.2, 4.8, 1.8],\n",
       "        [6.1, 2.8, 4. , 1.3],\n",
       "        [6.3, 2.5, 4.9, 1.5],\n",
       "        [6.1, 2.8, 4.7, 1.2],\n",
       "        [6.4, 2.9, 4.3, 1.3],\n",
       "        [6.6, 3. , 4.4, 1.4],\n",
       "        [6.8, 2.8, 4.8, 1.4],\n",
       "        [6.7, 3. , 5. , 1.7],\n",
       "        [6. , 2.9, 4.5, 1.5],\n",
       "        [5.7, 2.6, 3.5, 1. ],\n",
       "        [5.5, 2.4, 3.8, 1.1],\n",
       "        [5.5, 2.4, 3.7, 1. ],\n",
       "        [5.8, 2.7, 3.9, 1.2],\n",
       "        [6. , 2.7, 5.1, 1.6],\n",
       "        [5.4, 3. , 4.5, 1.5],\n",
       "        [6. , 3.4, 4.5, 1.6],\n",
       "        [6.7, 3.1, 4.7, 1.5],\n",
       "        [6.3, 2.3, 4.4, 1.3],\n",
       "        [5.6, 3. , 4.1, 1.3],\n",
       "        [5.5, 2.5, 4. , 1.3],\n",
       "        [5.5, 2.6, 4.4, 1.2],\n",
       "        [6.1, 3. , 4.6, 1.4],\n",
       "        [5.8, 2.6, 4. , 1.2],\n",
       "        [5. , 2.3, 3.3, 1. ],\n",
       "        [5.6, 2.7, 4.2, 1.3],\n",
       "        [5.7, 3. , 4.2, 1.2],\n",
       "        [5.7, 2.9, 4.2, 1.3],\n",
       "        [6.2, 2.9, 4.3, 1.3],\n",
       "        [5.1, 2.5, 3. , 1.1],\n",
       "        [5.7, 2.8, 4.1, 1.3],\n",
       "        [6.3, 3.3, 6. , 2.5],\n",
       "        [5.8, 2.7, 5.1, 1.9],\n",
       "        [7.1, 3. , 5.9, 2.1],\n",
       "        [6.3, 2.9, 5.6, 1.8],\n",
       "        [6.5, 3. , 5.8, 2.2],\n",
       "        [7.6, 3. , 6.6, 2.1],\n",
       "        [4.9, 2.5, 4.5, 1.7],\n",
       "        [7.3, 2.9, 6.3, 1.8],\n",
       "        [6.7, 2.5, 5.8, 1.8],\n",
       "        [7.2, 3.6, 6.1, 2.5],\n",
       "        [6.5, 3.2, 5.1, 2. ],\n",
       "        [6.4, 2.7, 5.3, 1.9],\n",
       "        [6.8, 3. , 5.5, 2.1],\n",
       "        [5.7, 2.5, 5. , 2. ],\n",
       "        [5.8, 2.8, 5.1, 2.4],\n",
       "        [6.4, 3.2, 5.3, 2.3],\n",
       "        [6.5, 3. , 5.5, 1.8],\n",
       "        [7.7, 3.8, 6.7, 2.2],\n",
       "        [7.7, 2.6, 6.9, 2.3],\n",
       "        [6. , 2.2, 5. , 1.5],\n",
       "        [6.9, 3.2, 5.7, 2.3],\n",
       "        [5.6, 2.8, 4.9, 2. ],\n",
       "        [7.7, 2.8, 6.7, 2. ],\n",
       "        [6.3, 2.7, 4.9, 1.8],\n",
       "        [6.7, 3.3, 5.7, 2.1],\n",
       "        [7.2, 3.2, 6. , 1.8],\n",
       "        [6.2, 2.8, 4.8, 1.8],\n",
       "        [6.1, 3. , 4.9, 1.8],\n",
       "        [6.4, 2.8, 5.6, 2.1],\n",
       "        [7.2, 3. , 5.8, 1.6],\n",
       "        [7.4, 2.8, 6.1, 1.9],\n",
       "        [7.9, 3.8, 6.4, 2. ],\n",
       "        [6.4, 2.8, 5.6, 2.2],\n",
       "        [6.3, 2.8, 5.1, 1.5],\n",
       "        [6.1, 2.6, 5.6, 1.4],\n",
       "        [7.7, 3. , 6.1, 2.3],\n",
       "        [6.3, 3.4, 5.6, 2.4],\n",
       "        [6.4, 3.1, 5.5, 1.8],\n",
       "        [6. , 3. , 4.8, 1.8],\n",
       "        [6.9, 3.1, 5.4, 2.1],\n",
       "        [6.7, 3.1, 5.6, 2.4],\n",
       "        [6.9, 3.1, 5.1, 2.3],\n",
       "        [5.8, 2.7, 5.1, 1.9],\n",
       "        [6.8, 3.2, 5.9, 2.3],\n",
       "        [6.7, 3.3, 5.7, 2.5],\n",
       "        [6.7, 3. , 5.2, 2.3],\n",
       "        [6.3, 2.5, 5. , 1.9],\n",
       "        [6.5, 3. , 5.2, 2. ],\n",
       "        [6.2, 3.4, 5.4, 2.3],\n",
       "        [5.9, 3. , 5.1, 1.8]]),\n",
       " 'target': array([0, 0, 0, 0, 0, 0, 0, 0, 0, 0, 0, 0, 0, 0, 0, 0, 0, 0, 0, 0, 0, 0,\n",
       "        0, 0, 0, 0, 0, 0, 0, 0, 0, 0, 0, 0, 0, 0, 0, 0, 0, 0, 0, 0, 0, 0,\n",
       "        0, 0, 0, 0, 0, 0, 1, 1, 1, 1, 1, 1, 1, 1, 1, 1, 1, 1, 1, 1, 1, 1,\n",
       "        1, 1, 1, 1, 1, 1, 1, 1, 1, 1, 1, 1, 1, 1, 1, 1, 1, 1, 1, 1, 1, 1,\n",
       "        1, 1, 1, 1, 1, 1, 1, 1, 1, 1, 1, 1, 2, 2, 2, 2, 2, 2, 2, 2, 2, 2,\n",
       "        2, 2, 2, 2, 2, 2, 2, 2, 2, 2, 2, 2, 2, 2, 2, 2, 2, 2, 2, 2, 2, 2,\n",
       "        2, 2, 2, 2, 2, 2, 2, 2, 2, 2, 2, 2, 2, 2, 2, 2, 2, 2]),\n",
       " 'target_names': array(['setosa', 'versicolor', 'virginica'], dtype='<U10'),\n",
       " 'DESCR': '.. _iris_dataset:\\n\\nIris plants dataset\\n--------------------\\n\\n**Data Set Characteristics:**\\n\\n    :Number of Instances: 150 (50 in each of three classes)\\n    :Number of Attributes: 4 numeric, predictive attributes and the class\\n    :Attribute Information:\\n        - sepal length in cm\\n        - sepal width in cm\\n        - petal length in cm\\n        - petal width in cm\\n        - class:\\n                - Iris-Setosa\\n                - Iris-Versicolour\\n                - Iris-Virginica\\n                \\n    :Summary Statistics:\\n\\n    ============== ==== ==== ======= ===== ====================\\n                    Min  Max   Mean    SD   Class Correlation\\n    ============== ==== ==== ======= ===== ====================\\n    sepal length:   4.3  7.9   5.84   0.83    0.7826\\n    sepal width:    2.0  4.4   3.05   0.43   -0.4194\\n    petal length:   1.0  6.9   3.76   1.76    0.9490  (high!)\\n    petal width:    0.1  2.5   1.20   0.76    0.9565  (high!)\\n    ============== ==== ==== ======= ===== ====================\\n\\n    :Missing Attribute Values: None\\n    :Class Distribution: 33.3% for each of 3 classes.\\n    :Creator: R.A. Fisher\\n    :Donor: Michael Marshall (MARSHALL%PLU@io.arc.nasa.gov)\\n    :Date: July, 1988\\n\\nThe famous Iris database, first used by Sir R.A. Fisher. The dataset is taken\\nfrom Fisher\\'s paper. Note that it\\'s the same as in R, but not as in the UCI\\nMachine Learning Repository, which has two wrong data points.\\n\\nThis is perhaps the best known database to be found in the\\npattern recognition literature.  Fisher\\'s paper is a classic in the field and\\nis referenced frequently to this day.  (See Duda & Hart, for example.)  The\\ndata set contains 3 classes of 50 instances each, where each class refers to a\\ntype of iris plant.  One class is linearly separable from the other 2; the\\nlatter are NOT linearly separable from each other.\\n\\n.. topic:: References\\n\\n   - Fisher, R.A. \"The use of multiple measurements in taxonomic problems\"\\n     Annual Eugenics, 7, Part II, 179-188 (1936); also in \"Contributions to\\n     Mathematical Statistics\" (John Wiley, NY, 1950).\\n   - Duda, R.O., & Hart, P.E. (1973) Pattern Classification and Scene Analysis.\\n     (Q327.D83) John Wiley & Sons.  ISBN 0-471-22361-1.  See page 218.\\n   - Dasarathy, B.V. (1980) \"Nosing Around the Neighborhood: A New System\\n     Structure and Classification Rule for Recognition in Partially Exposed\\n     Environments\".  IEEE Transactions on Pattern Analysis and Machine\\n     Intelligence, Vol. PAMI-2, No. 1, 67-71.\\n   - Gates, G.W. (1972) \"The Reduced Nearest Neighbor Rule\".  IEEE Transactions\\n     on Information Theory, May 1972, 431-433.\\n   - See also: 1988 MLC Proceedings, 54-64.  Cheeseman et al\"s AUTOCLASS II\\n     conceptual clustering system finds 3 classes in the data.\\n   - Many, many more ...',\n",
       " 'feature_names': ['sepal length (cm)',\n",
       "  'sepal width (cm)',\n",
       "  'petal length (cm)',\n",
       "  'petal width (cm)'],\n",
       " 'filename': 'D:\\\\New folder\\\\lib\\\\site-packages\\\\sklearn\\\\datasets\\\\data\\\\iris.csv'}"
      ]
     },
     "metadata": {},
     "output_type": "display_data"
    }
   ],
   "source": [
    "iris_data =load_iris() # load the iris dataset\n",
    "#print(iris_data)\n",
    "#iris_data\n",
    "display(iris_data)\n",
    "#iris_data =x\n",
    "#x.head()"
   ]
  },
  {
   "cell_type": "code",
   "execution_count": 20,
   "metadata": {},
   "outputs": [
    {
     "name": "stdout",
     "output_type": "stream",
     "text": [
      "Example data: \n",
      "[[5.1 3.5 1.4 0.2]\n",
      " [4.9 3.  1.4 0.2]\n",
      " [4.7 3.2 1.3 0.2]\n",
      " [4.6 3.1 1.5 0.2]\n",
      " [5.  3.6 1.4 0.2]]\n",
      "Example labels: \n",
      "[0 0 0 0 0]\n"
     ]
    }
   ],
   "source": [
    "print('Example data: ')\n",
    "print(iris_data.data[:5])\n",
    "print('Example labels: ')\n",
    "print(iris_data.target[:5])\n",
    "\n"
   ]
  },
  {
   "cell_type": "markdown",
   "metadata": {},
   "source": [
    "#  # Convert data to a single column"
   ]
  },
  {
   "cell_type": "code",
   "execution_count": 22,
   "metadata": {},
   "outputs": [],
   "source": [
    "x = iris_data.data\n",
    "y_ = iris_data.target.reshape(-1, 1)"
   ]
  },
  {
   "cell_type": "code",
   "execution_count": 27,
   "metadata": {},
   "outputs": [],
   "source": [
    "#print(x)\n",
    "#print(y)\n",
    "#print(y_)"
   ]
  },
  {
   "cell_type": "markdown",
   "metadata": {},
   "source": [
    "# Now use :# One Hot encode the class labels"
   ]
  },
  {
   "cell_type": "code",
   "execution_count": 28,
   "metadata": {},
   "outputs": [
    {
     "name": "stderr",
     "output_type": "stream",
     "text": [
      "D:\\New folder\\lib\\site-packages\\sklearn\\preprocessing\\_encoders.py:415: FutureWarning: The handling of integer data will change in version 0.22. Currently, the categories are determined based on the range [0, max(values)], while in the future they will be determined based on the unique values.\n",
      "If you want the future behaviour and silence this warning, you can specify \"categories='auto'\".\n",
      "In case you used a LabelEncoder before this OneHotEncoder to convert the categories to integers, then you can now use the OneHotEncoder directly.\n",
      "  warnings.warn(msg, FutureWarning)\n"
     ]
    }
   ],
   "source": [
    "encoder = OneHotEncoder(sparse=False)\n",
    "y = encoder.fit_transform(y_)"
   ]
  },
  {
   "cell_type": "code",
   "execution_count": 30,
   "metadata": {},
   "outputs": [],
   "source": [
    "#print(y)"
   ]
  },
  {
   "cell_type": "markdown",
   "metadata": {},
   "source": [
    "# #  now create  traning and testing datasest\n",
    "\n",
    "## # Split the data for training and testing"
   ]
  },
  {
   "cell_type": "code",
   "execution_count": 31,
   "metadata": {},
   "outputs": [],
   "source": [
    "x_train, x_test, y_train, y_test = train_test_split(x, y, test_size=0.20)"
   ]
  },
  {
   "cell_type": "markdown",
   "metadata": {},
   "source": [
    "# check shape of array"
   ]
  },
  {
   "cell_type": "code",
   "execution_count": 40,
   "metadata": {},
   "outputs": [
    {
     "name": "stdout",
     "output_type": "stream",
     "text": [
      "(30, 4)\n",
      "(120, 4)\n",
      "(30, 3)\n",
      "(120, 3)\n"
     ]
    }
   ],
   "source": [
    "print(x_test.shape)\n",
    "print(x_train.shape)\n",
    "print(y_test.shape)\n",
    "print(y_train.shape)"
   ]
  },
  {
   "cell_type": "markdown",
   "metadata": {},
   "source": [
    "# check len of array"
   ]
  },
  {
   "cell_type": "code",
   "execution_count": 39,
   "metadata": {},
   "outputs": [
    {
     "name": "stdout",
     "output_type": "stream",
     "text": [
      "30\n",
      "120\n",
      "30\n",
      "120\n"
     ]
    }
   ],
   "source": [
    "print(len(x_test))\n",
    "print(len(x_train))\n",
    "print(len(y_test))\n",
    "print(len(y_train))"
   ]
  },
  {
   "cell_type": "markdown",
   "metadata": {},
   "source": [
    "# # STEP 3 : Model Architecture \n",
    "\n",
    "\n",
    "###### Input : 4 \n",
    "###### 1 hidden Layer : 8 nodes\n",
    "###### Output : 3"
   ]
  },
  {
   "cell_type": "markdown",
   "metadata": {},
   "source": [
    "## First build the model"
   ]
  },
  {
   "cell_type": "code",
   "execution_count": 42,
   "metadata": {},
   "outputs": [],
   "source": [
    "model = Sequential()\n",
    "\n",
    "model.add(Dense(10, input_shape=(4,), activation='relu', name='fc1'))\n",
    "model.add(Dense(10, activation='relu', name='fc2'))\n",
    "model.add(Dense(3, activation='softmax', name='output'))\n"
   ]
  },
  {
   "cell_type": "code",
   "execution_count": 47,
   "metadata": {},
   "outputs": [
    {
     "name": "stdout",
     "output_type": "stream",
     "text": [
      "Neural Network Model Summary: \n",
      "Model: \"sequential_3\"\n",
      "_________________________________________________________________\n",
      "Layer (type)                 Output Shape              Param #   \n",
      "=================================================================\n",
      "fc1 (Dense)                  (None, 10)                50        \n",
      "_________________________________________________________________\n",
      "fc2 (Dense)                  (None, 10)                110       \n",
      "_________________________________________________________________\n",
      "output (Dense)               (None, 3)                 33        \n",
      "=================================================================\n",
      "Total params: 193\n",
      "Trainable params: 193\n",
      "Non-trainable params: 0\n",
      "_________________________________________________________________\n",
      "None\n"
     ]
    }
   ],
   "source": [
    "print('Neural Network Model Summary: ')\n",
    "print(model.summary())"
   ]
  },
  {
   "cell_type": "markdown",
   "metadata": {},
   "source": [
    "### STEP 4 : Compilation Step \n",
    "because  we use:compilation step\n",
    "\n",
    "meaning in  the result are imporvements in speed and memory usage :\n",
    "\n",
    "\n",
    "most internal benchmarks run ~1.15x faster after X_MLA is enabled\n"
   ]
  },
  {
   "cell_type": "markdown",
   "metadata": {},
   "source": [
    "#### Adam optimizer with learning rate of 0.001\n"
   ]
  },
  {
   "cell_type": "code",
   "execution_count": 44,
   "metadata": {},
   "outputs": [],
   "source": [
    "optimizer = Adam(lr=0.001)\n",
    "model.compile(optimizer, loss='categorical_crossentropy', metrics=['accuracy'])"
   ]
  },
  {
   "cell_type": "markdown",
   "metadata": {},
   "source": [
    "# STEP 5 : Evaluation¶\n",
    "\n",
    "## Train the model"
   ]
  },
  {
   "cell_type": "code",
   "execution_count": 54,
   "metadata": {},
   "outputs": [
    {
     "name": "stdout",
     "output_type": "stream",
     "text": [
      "Epoch 1/200\n",
      "120/120 [==============================] - 0s 1ms/step - loss: 0.0666 - accuracy: 0.9667\n",
      "Epoch 2/200\n",
      "120/120 [==============================] - 0s 1ms/step - loss: 0.0708 - accuracy: 0.9667: 0s - loss: 0.0401 - accuracy: 0.97\n",
      "Epoch 3/200\n",
      "120/120 [==============================] - 0s 917us/step - loss: 0.0685 - accuracy: 0.9750\n",
      "Epoch 4/200\n",
      "120/120 [==============================] - 0s 750us/step - loss: 0.0538 - accuracy: 0.9750\n",
      "Epoch 5/200\n",
      "120/120 [==============================] - 0s 683us/step - loss: 0.0544 - accuracy: 0.9750\n",
      "Epoch 6/200\n",
      "120/120 [==============================] - 0s 733us/step - loss: 0.0529 - accuracy: 0.9833\n",
      "Epoch 7/200\n",
      "120/120 [==============================] - 0s 675us/step - loss: 0.0508 - accuracy: 0.9750\n",
      "Epoch 8/200\n",
      "120/120 [==============================] - 0s 750us/step - loss: 0.0505 - accuracy: 0.9750\n",
      "Epoch 9/200\n",
      "120/120 [==============================] - 0s 742us/step - loss: 0.0510 - accuracy: 0.9750\n",
      "Epoch 10/200\n",
      "120/120 [==============================] - 0s 733us/step - loss: 0.0507 - accuracy: 0.9750\n",
      "Epoch 11/200\n",
      "120/120 [==============================] - 0s 650us/step - loss: 0.0521 - accuracy: 0.9750\n",
      "Epoch 12/200\n",
      "120/120 [==============================] - 0s 725us/step - loss: 0.0538 - accuracy: 0.9833\n",
      "Epoch 13/200\n",
      "120/120 [==============================] - 0s 742us/step - loss: 0.0504 - accuracy: 0.9750\n",
      "Epoch 14/200\n",
      "120/120 [==============================] - 0s 758us/step - loss: 0.0509 - accuracy: 0.9833\n",
      "Epoch 15/200\n",
      "120/120 [==============================] - 0s 1ms/step - loss: 0.0523 - accuracy: 0.9750\n",
      "Epoch 16/200\n",
      "120/120 [==============================] - 0s 592us/step - loss: 0.0504 - accuracy: 0.9750\n",
      "Epoch 17/200\n",
      "120/120 [==============================] - 0s 625us/step - loss: 0.0567 - accuracy: 0.9667\n",
      "Epoch 18/200\n",
      "120/120 [==============================] - 0s 625us/step - loss: 0.0607 - accuracy: 0.9750\n",
      "Epoch 19/200\n",
      "120/120 [==============================] - 0s 583us/step - loss: 0.0555 - accuracy: 0.9667\n",
      "Epoch 20/200\n",
      "120/120 [==============================] - 0s 625us/step - loss: 0.0536 - accuracy: 0.9750\n",
      "Epoch 21/200\n",
      "120/120 [==============================] - 0s 617us/step - loss: 0.0515 - accuracy: 0.9750\n",
      "Epoch 22/200\n",
      "120/120 [==============================] - 0s 608us/step - loss: 0.0512 - accuracy: 0.9750\n",
      "Epoch 23/200\n",
      "120/120 [==============================] - 0s 642us/step - loss: 0.0542 - accuracy: 0.9833\n",
      "Epoch 24/200\n",
      "120/120 [==============================] - 0s 592us/step - loss: 0.0525 - accuracy: 0.9833\n",
      "Epoch 25/200\n",
      "120/120 [==============================] - 0s 642us/step - loss: 0.0544 - accuracy: 0.9667\n",
      "Epoch 26/200\n",
      "120/120 [==============================] - 0s 617us/step - loss: 0.0517 - accuracy: 0.9750\n",
      "Epoch 27/200\n",
      "120/120 [==============================] - 0s 608us/step - loss: 0.0523 - accuracy: 0.9833\n",
      "Epoch 28/200\n",
      "120/120 [==============================] - 0s 575us/step - loss: 0.0526 - accuracy: 0.9750\n",
      "Epoch 29/200\n",
      "120/120 [==============================] - 0s 608us/step - loss: 0.0518 - accuracy: 0.9750\n",
      "Epoch 30/200\n",
      "120/120 [==============================] - 0s 592us/step - loss: 0.0514 - accuracy: 0.9833\n",
      "Epoch 31/200\n",
      "120/120 [==============================] - 0s 650us/step - loss: 0.0587 - accuracy: 0.9750\n",
      "Epoch 32/200\n",
      "120/120 [==============================] - 0s 608us/step - loss: 0.0510 - accuracy: 0.9750\n",
      "Epoch 33/200\n",
      "120/120 [==============================] - 0s 592us/step - loss: 0.0521 - accuracy: 0.9750\n",
      "Epoch 34/200\n",
      "120/120 [==============================] - 0s 625us/step - loss: 0.0547 - accuracy: 0.9833\n",
      "Epoch 35/200\n",
      "120/120 [==============================] - 0s 592us/step - loss: 0.0521 - accuracy: 0.9750\n",
      "Epoch 36/200\n",
      "120/120 [==============================] - 0s 583us/step - loss: 0.0530 - accuracy: 0.9750\n",
      "Epoch 37/200\n",
      "120/120 [==============================] - 0s 550us/step - loss: 0.0557 - accuracy: 0.9667\n",
      "Epoch 38/200\n",
      "120/120 [==============================] - 0s 600us/step - loss: 0.0570 - accuracy: 0.9833\n",
      "Epoch 39/200\n",
      "120/120 [==============================] - 0s 633us/step - loss: 0.0516 - accuracy: 0.9750\n",
      "Epoch 40/200\n",
      "120/120 [==============================] - 0s 533us/step - loss: 0.0517 - accuracy: 0.9833\n",
      "Epoch 41/200\n",
      "120/120 [==============================] - 0s 592us/step - loss: 0.0558 - accuracy: 0.9667\n",
      "Epoch 42/200\n",
      "120/120 [==============================] - 0s 600us/step - loss: 0.0540 - accuracy: 0.9750\n",
      "Epoch 43/200\n",
      "120/120 [==============================] - 0s 575us/step - loss: 0.0493 - accuracy: 0.9750\n",
      "Epoch 44/200\n",
      "120/120 [==============================] - 0s 650us/step - loss: 0.0522 - accuracy: 0.9750\n",
      "Epoch 45/200\n",
      "120/120 [==============================] - 0s 592us/step - loss: 0.0517 - accuracy: 0.9750\n",
      "Epoch 46/200\n",
      "120/120 [==============================] - 0s 583us/step - loss: 0.0526 - accuracy: 0.9750\n",
      "Epoch 47/200\n",
      "120/120 [==============================] - 0s 592us/step - loss: 0.0541 - accuracy: 0.9750\n",
      "Epoch 48/200\n",
      "120/120 [==============================] - 0s 583us/step - loss: 0.0492 - accuracy: 0.9833\n",
      "Epoch 49/200\n",
      "120/120 [==============================] - 0s 608us/step - loss: 0.0511 - accuracy: 0.9750\n",
      "Epoch 50/200\n",
      "120/120 [==============================] - 0s 542us/step - loss: 0.0506 - accuracy: 0.9833\n",
      "Epoch 51/200\n",
      "120/120 [==============================] - 0s 525us/step - loss: 0.0543 - accuracy: 0.9667\n",
      "Epoch 52/200\n",
      "120/120 [==============================] - 0s 500us/step - loss: 0.0519 - accuracy: 0.9750\n",
      "Epoch 53/200\n",
      "120/120 [==============================] - 0s 542us/step - loss: 0.0513 - accuracy: 0.9833\n",
      "Epoch 54/200\n",
      "120/120 [==============================] - 0s 500us/step - loss: 0.0531 - accuracy: 0.9750\n",
      "Epoch 55/200\n",
      "120/120 [==============================] - 0s 542us/step - loss: 0.0540 - accuracy: 0.9750\n",
      "Epoch 56/200\n",
      "120/120 [==============================] - 0s 525us/step - loss: 0.0532 - accuracy: 0.9750\n",
      "Epoch 57/200\n",
      "120/120 [==============================] - 0s 508us/step - loss: 0.0578 - accuracy: 0.9667\n",
      "Epoch 58/200\n",
      "120/120 [==============================] - 0s 525us/step - loss: 0.0576 - accuracy: 0.9833\n",
      "Epoch 59/200\n",
      "120/120 [==============================] - 0s 483us/step - loss: 0.0538 - accuracy: 0.9833\n",
      "Epoch 60/200\n",
      "120/120 [==============================] - 0s 492us/step - loss: 0.0574 - accuracy: 0.9833\n",
      "Epoch 61/200\n",
      "120/120 [==============================] - 0s 483us/step - loss: 0.0578 - accuracy: 0.9833\n",
      "Epoch 62/200\n",
      "120/120 [==============================] - 0s 517us/step - loss: 0.0558 - accuracy: 0.9833\n",
      "Epoch 63/200\n",
      "120/120 [==============================] - 0s 492us/step - loss: 0.0537 - accuracy: 0.9750\n",
      "Epoch 64/200\n",
      "120/120 [==============================] - 0s 492us/step - loss: 0.0512 - accuracy: 0.9750\n",
      "Epoch 65/200\n",
      "120/120 [==============================] - 0s 542us/step - loss: 0.0528 - accuracy: 0.9750\n",
      "Epoch 66/200\n",
      "120/120 [==============================] - 0s 467us/step - loss: 0.0531 - accuracy: 0.9750\n",
      "Epoch 67/200\n",
      "120/120 [==============================] - 0s 558us/step - loss: 0.0525 - accuracy: 0.9833\n",
      "Epoch 68/200\n",
      "120/120 [==============================] - 0s 492us/step - loss: 0.0529 - accuracy: 0.9750\n",
      "Epoch 69/200\n",
      "120/120 [==============================] - 0s 533us/step - loss: 0.0503 - accuracy: 0.9750\n",
      "Epoch 70/200\n",
      "120/120 [==============================] - 0s 542us/step - loss: 0.0500 - accuracy: 0.9750\n",
      "Epoch 71/200\n",
      "120/120 [==============================] - 0s 500us/step - loss: 0.0507 - accuracy: 0.9833\n",
      "Epoch 72/200\n",
      "120/120 [==============================] - 0s 517us/step - loss: 0.0552 - accuracy: 0.9750\n",
      "Epoch 73/200\n",
      "120/120 [==============================] - 0s 517us/step - loss: 0.0496 - accuracy: 0.9750\n",
      "Epoch 74/200\n",
      "120/120 [==============================] - 0s 508us/step - loss: 0.0555 - accuracy: 0.9667\n",
      "Epoch 75/200\n",
      "120/120 [==============================] - 0s 542us/step - loss: 0.0593 - accuracy: 0.9750\n",
      "Epoch 76/200\n",
      "120/120 [==============================] - 0s 525us/step - loss: 0.0771 - accuracy: 0.9667\n",
      "Epoch 77/200\n",
      "120/120 [==============================] - 0s 500us/step - loss: 0.0476 - accuracy: 0.9833\n",
      "Epoch 78/200\n",
      "120/120 [==============================] - 0s 525us/step - loss: 0.0573 - accuracy: 0.9750\n",
      "Epoch 79/200\n"
     ]
    },
    {
     "name": "stdout",
     "output_type": "stream",
     "text": [
      "120/120 [==============================] - 0s 525us/step - loss: 0.0529 - accuracy: 0.9833\n",
      "Epoch 80/200\n",
      "120/120 [==============================] - 0s 450us/step - loss: 0.0520 - accuracy: 0.9750\n",
      "Epoch 81/200\n",
      "120/120 [==============================] - 0s 508us/step - loss: 0.0496 - accuracy: 0.9750\n",
      "Epoch 82/200\n",
      "120/120 [==============================] - 0s 492us/step - loss: 0.0549 - accuracy: 0.9750\n",
      "Epoch 83/200\n",
      "120/120 [==============================] - 0s 500us/step - loss: 0.0593 - accuracy: 0.9750\n",
      "Epoch 84/200\n",
      "120/120 [==============================] - 0s 433us/step - loss: 0.0494 - accuracy: 0.9750\n",
      "Epoch 85/200\n",
      "120/120 [==============================] - 0s 525us/step - loss: 0.0534 - accuracy: 0.9750\n",
      "Epoch 86/200\n",
      "120/120 [==============================] - 0s 492us/step - loss: 0.0493 - accuracy: 0.9833\n",
      "Epoch 87/200\n",
      "120/120 [==============================] - 0s 450us/step - loss: 0.0515 - accuracy: 0.9750\n",
      "Epoch 88/200\n",
      "120/120 [==============================] - 0s 550us/step - loss: 0.0511 - accuracy: 0.9750\n",
      "Epoch 89/200\n",
      "120/120 [==============================] - 0s 500us/step - loss: 0.0545 - accuracy: 0.9750\n",
      "Epoch 90/200\n",
      "120/120 [==============================] - 0s 542us/step - loss: 0.0598 - accuracy: 0.9667\n",
      "Epoch 91/200\n",
      "120/120 [==============================] - 0s 500us/step - loss: 0.0524 - accuracy: 0.9750\n",
      "Epoch 92/200\n",
      "120/120 [==============================] - 0s 508us/step - loss: 0.0569 - accuracy: 0.9750\n",
      "Epoch 93/200\n",
      "120/120 [==============================] - 0s 500us/step - loss: 0.0514 - accuracy: 0.9833\n",
      "Epoch 94/200\n",
      "120/120 [==============================] - 0s 442us/step - loss: 0.0554 - accuracy: 0.9750\n",
      "Epoch 95/200\n",
      "120/120 [==============================] - 0s 492us/step - loss: 0.0535 - accuracy: 0.9750\n",
      "Epoch 96/200\n",
      "120/120 [==============================] - 0s 533us/step - loss: 0.0498 - accuracy: 0.9750\n",
      "Epoch 97/200\n",
      "120/120 [==============================] - 0s 517us/step - loss: 0.0521 - accuracy: 0.9667\n",
      "Epoch 98/200\n",
      "120/120 [==============================] - 0s 442us/step - loss: 0.0513 - accuracy: 0.9750\n",
      "Epoch 99/200\n",
      "120/120 [==============================] - 0s 500us/step - loss: 0.0544 - accuracy: 0.9750\n",
      "Epoch 100/200\n",
      "120/120 [==============================] - 0s 525us/step - loss: 0.0523 - accuracy: 0.9833\n",
      "Epoch 101/200\n",
      "120/120 [==============================] - 0s 500us/step - loss: 0.0538 - accuracy: 0.9667\n",
      "Epoch 102/200\n",
      "120/120 [==============================] - 0s 450us/step - loss: 0.0550 - accuracy: 0.9750\n",
      "Epoch 103/200\n",
      "120/120 [==============================] - 0s 492us/step - loss: 0.0692 - accuracy: 0.9667\n",
      "Epoch 104/200\n",
      "120/120 [==============================] - 0s 483us/step - loss: 0.0768 - accuracy: 0.9750\n",
      "Epoch 105/200\n",
      "120/120 [==============================] - 0s 508us/step - loss: 0.0664 - accuracy: 0.9667\n",
      "Epoch 106/200\n",
      "120/120 [==============================] - 0s 492us/step - loss: 0.0516 - accuracy: 0.9750\n",
      "Epoch 107/200\n",
      "120/120 [==============================] - 0s 508us/step - loss: 0.0504 - accuracy: 0.9750\n",
      "Epoch 108/200\n",
      "120/120 [==============================] - 0s 508us/step - loss: 0.0547 - accuracy: 0.9750\n",
      "Epoch 109/200\n",
      "120/120 [==============================] - 0s 525us/step - loss: 0.0532 - accuracy: 0.9750\n",
      "Epoch 110/200\n",
      "120/120 [==============================] - 0s 483us/step - loss: 0.0505 - accuracy: 0.9750\n",
      "Epoch 111/200\n",
      "120/120 [==============================] - ETA: 0s - loss: 0.0545 - accuracy: 0.98 - 0s 483us/step - loss: 0.0524 - accuracy: 0.9833\n",
      "Epoch 112/200\n",
      "120/120 [==============================] - 0s 517us/step - loss: 0.0503 - accuracy: 0.9750\n",
      "Epoch 113/200\n",
      "120/120 [==============================] - 0s 508us/step - loss: 0.0518 - accuracy: 0.9833\n",
      "Epoch 114/200\n",
      "120/120 [==============================] - 0s 542us/step - loss: 0.0597 - accuracy: 0.9750\n",
      "Epoch 115/200\n",
      "120/120 [==============================] - 0s 483us/step - loss: 0.0575 - accuracy: 0.9750\n",
      "Epoch 116/200\n",
      "120/120 [==============================] - 0s 517us/step - loss: 0.0542 - accuracy: 0.9750\n",
      "Epoch 117/200\n",
      "120/120 [==============================] - 0s 442us/step - loss: 0.0500 - accuracy: 0.9833\n",
      "Epoch 118/200\n",
      "120/120 [==============================] - 0s 517us/step - loss: 0.0503 - accuracy: 0.9750\n",
      "Epoch 119/200\n",
      "120/120 [==============================] - 0s 467us/step - loss: 0.0518 - accuracy: 0.9750\n",
      "Epoch 120/200\n",
      "120/120 [==============================] - 0s 542us/step - loss: 0.0486 - accuracy: 0.9750\n",
      "Epoch 121/200\n",
      "120/120 [==============================] - 0s 517us/step - loss: 0.0497 - accuracy: 0.9750\n",
      "Epoch 122/200\n",
      "120/120 [==============================] - 0s 542us/step - loss: 0.0484 - accuracy: 0.9750\n",
      "Epoch 123/200\n",
      "120/120 [==============================] - 0s 492us/step - loss: 0.0498 - accuracy: 0.9833\n",
      "Epoch 124/200\n",
      "120/120 [==============================] - 0s 475us/step - loss: 0.0525 - accuracy: 0.9750\n",
      "Epoch 125/200\n",
      "120/120 [==============================] - 0s 525us/step - loss: 0.0530 - accuracy: 0.9833\n",
      "Epoch 126/200\n",
      "120/120 [==============================] - 0s 492us/step - loss: 0.0531 - accuracy: 0.9750\n",
      "Epoch 127/200\n",
      "120/120 [==============================] - 0s 525us/step - loss: 0.0438 - accuracy: 0.9833\n",
      "Epoch 128/200\n",
      "120/120 [==============================] - 0s 442us/step - loss: 0.0589 - accuracy: 0.9750\n",
      "Epoch 129/200\n",
      "120/120 [==============================] - 0s 517us/step - loss: 0.0490 - accuracy: 0.9833\n",
      "Epoch 130/200\n",
      "120/120 [==============================] - 0s 508us/step - loss: 0.0539 - accuracy: 0.9667\n",
      "Epoch 131/200\n",
      "120/120 [==============================] - 0s 517us/step - loss: 0.0699 - accuracy: 0.9667\n",
      "Epoch 132/200\n",
      "120/120 [==============================] - 0s 500us/step - loss: 0.0528 - accuracy: 0.9833\n",
      "Epoch 133/200\n",
      "120/120 [==============================] - 0s 458us/step - loss: 0.0520 - accuracy: 0.9833\n",
      "Epoch 134/200\n",
      "120/120 [==============================] - 0s 508us/step - loss: 0.0650 - accuracy: 0.9667\n",
      "Epoch 135/200\n",
      "120/120 [==============================] - 0s 425us/step - loss: 0.0552 - accuracy: 0.9750\n",
      "Epoch 136/200\n",
      "120/120 [==============================] - 0s 508us/step - loss: 0.0498 - accuracy: 0.9750\n",
      "Epoch 137/200\n",
      "120/120 [==============================] - 0s 517us/step - loss: 0.0598 - accuracy: 0.9750\n",
      "Epoch 138/200\n",
      "120/120 [==============================] - 0s 525us/step - loss: 0.0572 - accuracy: 0.9750\n",
      "Epoch 139/200\n",
      "120/120 [==============================] - 0s 458us/step - loss: 0.0537 - accuracy: 0.9750\n",
      "Epoch 140/200\n",
      "120/120 [==============================] - 0s 500us/step - loss: 0.0541 - accuracy: 0.9750\n",
      "Epoch 141/200\n",
      "120/120 [==============================] - 0s 517us/step - loss: 0.0562 - accuracy: 0.9750\n",
      "Epoch 142/200\n",
      "120/120 [==============================] - 0s 525us/step - loss: 0.0491 - accuracy: 0.9750\n",
      "Epoch 143/200\n",
      "120/120 [==============================] - 0s 508us/step - loss: 0.0501 - accuracy: 0.9750\n",
      "Epoch 144/200\n",
      "120/120 [==============================] - 0s 492us/step - loss: 0.0507 - accuracy: 0.9750\n",
      "Epoch 145/200\n",
      "120/120 [==============================] - 0s 525us/step - loss: 0.0581 - accuracy: 0.9750\n",
      "Epoch 146/200\n",
      "120/120 [==============================] - 0s 433us/step - loss: 0.0485 - accuracy: 0.9750\n",
      "Epoch 147/200\n",
      "120/120 [==============================] - 0s 500us/step - loss: 0.0550 - accuracy: 0.9833\n",
      "Epoch 148/200\n",
      "120/120 [==============================] - 0s 508us/step - loss: 0.0553 - accuracy: 0.9833\n",
      "Epoch 149/200\n",
      "120/120 [==============================] - 0s 525us/step - loss: 0.0523 - accuracy: 0.9750\n",
      "Epoch 150/200\n",
      "120/120 [==============================] - 0s 533us/step - loss: 0.0512 - accuracy: 0.9750\n",
      "Epoch 151/200\n",
      "120/120 [==============================] - 0s 517us/step - loss: 0.0564 - accuracy: 0.9833\n",
      "Epoch 152/200\n",
      "120/120 [==============================] - 0s 517us/step - loss: 0.0507 - accuracy: 0.9750\n",
      "Epoch 153/200\n",
      "120/120 [==============================] - 0s 500us/step - loss: 0.0511 - accuracy: 0.9833\n",
      "Epoch 154/200\n",
      "120/120 [==============================] - 0s 525us/step - loss: 0.0483 - accuracy: 0.9750\n",
      "Epoch 155/200\n",
      "120/120 [==============================] - 0s 492us/step - loss: 0.0521 - accuracy: 0.9833\n",
      "Epoch 156/200\n",
      "120/120 [==============================] - 0s 442us/step - loss: 0.0556 - accuracy: 0.9750\n"
     ]
    },
    {
     "name": "stdout",
     "output_type": "stream",
     "text": [
      "Epoch 157/200\n",
      "120/120 [==============================] - 0s 525us/step - loss: 0.0478 - accuracy: 0.9833\n",
      "Epoch 158/200\n",
      "120/120 [==============================] - 0s 500us/step - loss: 0.0486 - accuracy: 0.9833\n",
      "Epoch 159/200\n",
      "120/120 [==============================] - 0s 467us/step - loss: 0.0488 - accuracy: 0.9750\n",
      "Epoch 160/200\n",
      "120/120 [==============================] - 0s 525us/step - loss: 0.0506 - accuracy: 0.9833\n",
      "Epoch 161/200\n",
      "120/120 [==============================] - 0s 483us/step - loss: 0.0538 - accuracy: 0.9750\n",
      "Epoch 162/200\n",
      "120/120 [==============================] - 0s 425us/step - loss: 0.0525 - accuracy: 0.9750\n",
      "Epoch 163/200\n",
      "120/120 [==============================] - 0s 425us/step - loss: 0.0495 - accuracy: 0.9750\n",
      "Epoch 164/200\n",
      "120/120 [==============================] - 0s 533us/step - loss: 0.0473 - accuracy: 0.9833\n",
      "Epoch 165/200\n",
      "120/120 [==============================] - 0s 450us/step - loss: 0.0580 - accuracy: 0.9750\n",
      "Epoch 166/200\n",
      "120/120 [==============================] - 0s 558us/step - loss: 0.0506 - accuracy: 0.9750\n",
      "Epoch 167/200\n",
      "120/120 [==============================] - 0s 492us/step - loss: 0.0571 - accuracy: 0.9750\n",
      "Epoch 168/200\n",
      "120/120 [==============================] - 0s 525us/step - loss: 0.0651 - accuracy: 0.9667\n",
      "Epoch 169/200\n",
      "120/120 [==============================] - 0s 492us/step - loss: 0.0550 - accuracy: 0.9750\n",
      "Epoch 170/200\n",
      "120/120 [==============================] - 0s 450us/step - loss: 0.0540 - accuracy: 0.9750\n",
      "Epoch 171/200\n",
      "120/120 [==============================] - 0s 442us/step - loss: 0.0508 - accuracy: 0.9750\n",
      "Epoch 172/200\n",
      "120/120 [==============================] - 0s 525us/step - loss: 0.0486 - accuracy: 0.9750\n",
      "Epoch 173/200\n",
      "120/120 [==============================] - 0s 450us/step - loss: 0.0530 - accuracy: 0.9667\n",
      "Epoch 174/200\n",
      "120/120 [==============================] - 0s 500us/step - loss: 0.0485 - accuracy: 0.9750\n",
      "Epoch 175/200\n",
      "120/120 [==============================] - 0s 542us/step - loss: 0.0505 - accuracy: 0.9750\n",
      "Epoch 176/200\n",
      "120/120 [==============================] - 0s 442us/step - loss: 0.0496 - accuracy: 0.9750\n",
      "Epoch 177/200\n",
      "120/120 [==============================] - 0s 533us/step - loss: 0.0532 - accuracy: 0.9750\n",
      "Epoch 178/200\n",
      "120/120 [==============================] - 0s 458us/step - loss: 0.0506 - accuracy: 0.9750\n",
      "Epoch 179/200\n",
      "120/120 [==============================] - 0s 492us/step - loss: 0.0496 - accuracy: 0.9750\n",
      "Epoch 180/200\n",
      "120/120 [==============================] - 0s 500us/step - loss: 0.0520 - accuracy: 0.9750\n",
      "Epoch 181/200\n",
      "120/120 [==============================] - 0s 508us/step - loss: 0.0535 - accuracy: 0.9833\n",
      "Epoch 182/200\n",
      "120/120 [==============================] - 0s 500us/step - loss: 0.0547 - accuracy: 0.9667\n",
      "Epoch 183/200\n",
      "120/120 [==============================] - 0s 500us/step - loss: 0.0542 - accuracy: 0.9750\n",
      "Epoch 184/200\n",
      "120/120 [==============================] - 0s 525us/step - loss: 0.0479 - accuracy: 0.9750\n",
      "Epoch 185/200\n",
      "120/120 [==============================] - 0s 458us/step - loss: 0.0501 - accuracy: 0.9750\n",
      "Epoch 186/200\n",
      "120/120 [==============================] - 0s 483us/step - loss: 0.0542 - accuracy: 0.9750\n",
      "Epoch 187/200\n",
      "120/120 [==============================] - 0s 425us/step - loss: 0.0539 - accuracy: 0.9667\n",
      "Epoch 188/200\n",
      "120/120 [==============================] - 0s 433us/step - loss: 0.0508 - accuracy: 0.9750\n",
      "Epoch 189/200\n",
      "120/120 [==============================] - 0s 525us/step - loss: 0.0482 - accuracy: 0.9750\n",
      "Epoch 190/200\n",
      "120/120 [==============================] - 0s 442us/step - loss: 0.0551 - accuracy: 0.9750\n",
      "Epoch 191/200\n",
      "120/120 [==============================] - 0s 508us/step - loss: 0.0521 - accuracy: 0.9833\n",
      "Epoch 192/200\n",
      "120/120 [==============================] - 0s 550us/step - loss: 0.0476 - accuracy: 0.9750\n",
      "Epoch 193/200\n",
      "120/120 [==============================] - 0s 525us/step - loss: 0.0505 - accuracy: 0.9750\n",
      "Epoch 194/200\n",
      "120/120 [==============================] - 0s 517us/step - loss: 0.0584 - accuracy: 0.9667\n",
      "Epoch 195/200\n",
      "120/120 [==============================] - 0s 542us/step - loss: 0.0538 - accuracy: 0.9750\n",
      "Epoch 196/200\n",
      "120/120 [==============================] - 0s 492us/step - loss: 0.0499 - accuracy: 0.9750\n",
      "Epoch 197/200\n",
      "120/120 [==============================] - 0s 500us/step - loss: 0.0493 - accuracy: 0.9833\n",
      "Epoch 198/200\n",
      "120/120 [==============================] - 0s 450us/step - loss: 0.0472 - accuracy: 0.9833\n",
      "Epoch 199/200\n",
      "120/120 [==============================] - 0s 450us/step - loss: 0.0471 - accuracy: 0.9750\n",
      "Epoch 200/200\n",
      "120/120 [==============================] - 0s 508us/step - loss: 0.0474 - accuracy: 0.9750\n"
     ]
    },
    {
     "data": {
      "text/plain": [
       "<keras.callbacks.callbacks.History at 0x13c2e108>"
      ]
     },
     "execution_count": 54,
     "metadata": {},
     "output_type": "execute_result"
    }
   ],
   "source": [
    "model.fit(x_train, y_train, verbose=1, batch_size=5, epochs=200)\n"
   ]
  },
  {
   "cell_type": "markdown",
   "metadata": {},
   "source": [
    "# STEP 6 : Prediction "
   ]
  },
  {
   "cell_type": "markdown",
   "metadata": {},
   "source": [
    "### Test on unseen data\n"
   ]
  },
  {
   "cell_type": "code",
   "execution_count": 55,
   "metadata": {},
   "outputs": [
    {
     "name": "stdout",
     "output_type": "stream",
     "text": [
      "Final test set loss: 0.036624\n",
      "Final test set accuracy: 1.000000\n"
     ]
    }
   ],
   "source": [
    "print('Final test set loss: {:4f}'.format(results[0]))\n",
    "print('Final test set accuracy: {:4f}'.format(results[1]))"
   ]
  },
  {
   "cell_type": "code",
   "execution_count": 58,
   "metadata": {},
   "outputs": [],
   "source": [
    "i = 10\n",
    "prediction =  model.predict_classes(x_test[i].reshape(1,4))"
   ]
  },
  {
   "cell_type": "code",
   "execution_count": 59,
   "metadata": {},
   "outputs": [
    {
     "name": "stdout",
     "output_type": "stream",
     "text": [
      "The data is : [6.5 3.  5.5 1.8] and I have predicted that it's a [2] i.e Iris-virginica\n",
      "Actual data : [6.5 3.  5.5 1.8] actual label : [0. 0. 1.]\n"
     ]
    }
   ],
   "source": [
    "if prediction == 0:\n",
    "    \n",
    "    \n",
    "    print(\"The data is :\",x_test[i],\"and I have predicted that it's a\",prediction,\"i.e Iris-setosa\")\n",
    "    print(\"Actual data :\",x_test[i] , \"actual label :\",y_test[i])\n",
    "\n",
    "elif prediction == 1:\n",
    "    \n",
    "    print(\"The data is :\",x_test[i],\"and I have predicted that it's a\",prediction,\"i.e Iris-versicolor\")\n",
    "    print(\"Actual data :\",x_test[i] , \"actual label :\",y_test[i])\n",
    "\n",
    "else:\n",
    "    \n",
    "    print(\"The data is :\",x_test[i],\"and I have predicted that it's a\",prediction,\"i.e Iris-virginica\")\n",
    "    print(\"Actual data :\",x_test[i] , \"actual label :\",y_test[i])\n"
   ]
  },
  {
   "cell_type": "code",
   "execution_count": 62,
   "metadata": {},
   "outputs": [],
   "source": [
    "plt.show(iris_data)"
   ]
  },
  {
   "cell_type": "code",
   "execution_count": 63,
   "metadata": {},
   "outputs": [
    {
     "data": {
      "text/plain": [
       "array(0, dtype=object)"
      ]
     },
     "execution_count": 63,
     "metadata": {},
     "output_type": "execute_result"
    }
   ],
   "source": [
    "plt.imag(iris_data)"
   ]
  },
  {
   "cell_type": "code",
   "execution_count": 66,
   "metadata": {},
   "outputs": [
    {
     "data": {
      "text/plain": [
       "<matplotlib.image.AxesImage at 0x1490ccc8>"
      ]
     },
     "execution_count": 66,
     "metadata": {},
     "output_type": "execute_result"
    },
    {
     "data": {
      "image/png": "[encoded data removed]",
      "text/plain": [
       "<Figure size 432x288 with 1 Axes>"
      ]
     },
     "metadata": {
      "needs_background": "light"
     },
     "output_type": "display_data"
    }
   ],
   "source": [
    "plt.imshow(x_test)"
   ]
  },
  {
   "cell_type": "code",
   "execution_count": null,
   "metadata": {},
   "outputs": [],
   "source": []
  }
 ],
 "metadata": {
  "kernelspec": {
   "display_name": "Python 3",
   "language": "python",
   "name": "python3"
  },
  "language_info": {
   "codemirror_mode": {
    "name": "ipython",
    "version": 3
   },
   "file_extension": ".py",
   "mimetype": "text/x-python",
   "name": "python",
   "nbconvert_exporter": "python",
   "pygments_lexer": "ipython3",
   "version": "3.7.4"
  }
 },
 "nbformat": 4,
 "nbformat_minor": 2
}
